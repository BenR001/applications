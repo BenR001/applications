{
 "cells": [
  {
   "cell_type": "markdown",
   "metadata": {},
   "source": [
    "# Dealing with Structured Data- Global Terrorism Database"
   ]
  },
  {
   "cell_type": "markdown",
   "metadata": {},
   "source": [
    "### Thanks to Samuel Capps (6980 2020 QTR 1) for identifying this dynamic"
   ]
  },
  {
   "cell_type": "code",
   "execution_count": null,
   "metadata": {},
   "outputs": [],
   "source": [
    "# Import libraries to aid your analysis\n",
    "import pandas as pd #pandas places ones data in tables format\n",
    "from bokeh.plotting import figure, output_notebook, show #builds interactive graphs for python\n",
    "from bokeh.models import Range1d\n",
    "import math #this is used in graphic section to use the irrational number pi\n",
    "output_notebook() #Allows inline plotting for Juptyer notebook"
   ]
  },
  {
   "cell_type": "markdown",
   "metadata": {},
   "source": [
    "### Let's look at the data"
   ]
  },
  {
   "cell_type": "code",
   "execution_count": null,
   "metadata": {},
   "outputs": [],
   "source": [
    "# Datasheet was downbloaed form GTD and being read in form a local .csv file\n",
    "GTD = pd.read_csv(r\"C:\\Users\\ymamo\\Documents\\Classes\\688\\Fall_2021\\Lesson 2\\Code\\globalterrorismdb_0919dist.csv\",\n",
    "                  encoding = \"ISO-8859-1\", engine = 'python') \n",
    "# had some issues with the data types, had to search online for example to read properly\n",
    "GTD.head() # see the structure--default is first five rows"
   ]
  },
  {
   "cell_type": "code",
   "execution_count": null,
   "metadata": {},
   "outputs": [],
   "source": [
    "# Pandas library has a describe function to apply algorithms against the data...\n",
    "# whether approriate or not\n",
    "GTD.describe()"
   ]
  },
  {
   "cell_type": "code",
   "execution_count": null,
   "metadata": {},
   "outputs": [],
   "source": [
    "#Identifies the total number of rows\n",
    "len(GTD)"
   ]
  },
  {
   "cell_type": "code",
   "execution_count": null,
   "metadata": {},
   "outputs": [],
   "source": [
    "#provides information about the dataframe\n",
    "GTD.info()"
   ]
  },
  {
   "cell_type": "code",
   "execution_count": null,
   "metadata": {},
   "outputs": [],
   "source": [
    "#See the titles of the 135 columns\n",
    "for col in GTD.columns:\n",
    "    print(col)\n",
    "# !!!! Look in the GTD_Codebook to get more information about each column !!!!"
   ]
  },
  {
   "cell_type": "markdown",
   "metadata": {},
   "source": [
    "# Problem 1: Change the Country (do after going through the whole notebook)"
   ]
  },
  {
   "cell_type": "code",
   "execution_count": null,
   "metadata": {},
   "outputs": [],
   "source": [
    "# reduce the dataframe down to just the philippines\n",
    "country = GTD[GTD[\"country_txt\"]==\"Philippines\"] # store the information in an object called country\n",
    "#you can change Philippines to any country in the dataset\n",
    "country.head(10) #by putting in 10 I changed the default setting of 1st 5 rows to 1st 10 rows"
   ]
  },
  {
   "cell_type": "markdown",
   "metadata": {},
   "source": [
    "### Let's deep dive in a country "
   ]
  },
  {
   "cell_type": "code",
   "execution_count": null,
   "metadata": {},
   "outputs": [],
   "source": [
    "attacks_by_group = {} #make an empty datastructure (dictionary) to fill\n",
    "\n",
    "#This loop goes through each row and counts the number of entries by group\n",
    "for index, row in country.iterrows(): \n",
    "    if row[\"gname\"]  in attacks_by_group.keys():\n",
    "        attacks_by_group[row[\"gname\"]] += 1 #if group is in the dictionary add 1 attack\n",
    "    else:\n",
    "        attacks_by_group[row[\"gname\"]] = 1 #add group name to dictionary if not in dictionary\n",
    "\n",
    "attacks_by_group "
   ]
  },
  {
   "cell_type": "code",
   "execution_count": null,
   "metadata": {},
   "outputs": [],
   "source": [
    "# Make X and Y axis for a bar chart plotting attacks\n",
    "groups = list(attacks_by_group.keys())\n",
    "attacks = list(attacks_by_group.values())"
   ]
  },
  {
   "cell_type": "code",
   "execution_count": null,
   "metadata": {},
   "outputs": [],
   "source": [
    "#Sort from smallest to largest\n",
    "sorted_groups = sorted(groups, key=lambda x: attacks[groups.index(x)])\n",
    "sorted_attacks = sorted(attacks)\n"
   ]
  },
  {
   "cell_type": "markdown",
   "metadata": {},
   "source": [
    "# Problem 2: For any country only do plot the top 5 groups (Hint: Use list slicing e.g sorted_attacks[-10:]) "
   ]
  },
  {
   "cell_type": "code",
   "execution_count": null,
   "metadata": {},
   "outputs": [],
   "source": [
    "# Uses the bokeh library to plot an interactive graph ---this is very basic view of its capability\n",
    "# makes the figure\n",
    "p = figure(x_range = sorted_groups, plot_width=800, plot_height=1200)\n",
    "#Plots the data\n",
    "p.vbar(x=sorted_groups, width=0.5, bottom=0,\n",
    "       top= sorted_attacks, color=\"firebrick\")\n",
    "\n",
    "p.xaxis.major_label_orientation = math.pi/2  #Rotates the labels on the X axis\n",
    "\n"
   ]
  },
  {
   "cell_type": "code",
   "execution_count": null,
   "metadata": {},
   "outputs": [],
   "source": [
    "show(p)"
   ]
  },
  {
   "cell_type": "markdown",
   "metadata": {},
   "source": [
    "## Now lets plot the attacks in a map"
   ]
  },
  {
   "cell_type": "code",
   "execution_count": null,
   "metadata": {},
   "outputs": [],
   "source": [
    "#Imports necessary aspects of Bokeh for plotting on a map\n",
    "from bokeh.tile_providers import get_provider, Vendors\n",
    "from pyproj import Transformer\n",
    "tile_provider = get_provider('STAMEN_TERRAIN')"
   ]
  },
  {
   "cell_type": "code",
   "execution_count": null,
   "metadata": {},
   "outputs": [],
   "source": [
    "# Take the data reduced to a country and get the lat/long of the attacks and the name of the group\n",
    "country_map = country[[\"latitude\", 'longitude', 'gname']]\n",
    "\n",
    "#see the data this time first 7 rows\n",
    "country_map.head(7)"
   ]
  },
  {
   "cell_type": "code",
   "execution_count": null,
   "metadata": {},
   "outputs": [],
   "source": [
    "#create pyproj transformer to convert form lat/long to web mercator\n",
    "transformer = Transformer.from_crs('epsg:4326','epsg:3857')"
   ]
  },
  {
   "cell_type": "code",
   "execution_count": null,
   "metadata": {},
   "outputs": [],
   "source": [
    "map_dict = {} # empty dictionary to track group attacks by lat long\n",
    "nan_count = {} # some data doesn't have a lat/long so we need to know what we are losing\n",
    "\n",
    "\n",
    "# Iterate through tables and associate group with lat/long\n",
    "for idx, row in country_map.iterrows():    \n",
    "    if row['gname'] in map_dict.keys(): \n",
    "        if math.isnan(row[\"latitude\"]):\n",
    "            #This counts no data\n",
    "            if row['gname'] in nan_count.keys(): \n",
    "                nan_count[row['gname']] += 1 \n",
    "            else: \n",
    "                nan_count[row['gname']] = 1\n",
    "        else: \n",
    "            #This has to convert the lat/long to a mercator projection \n",
    "            point = transformer.transform(row[\"latitude\"],row[\"longitude\"])\n",
    "            map_dict[row['gname']].append([point[0],point[1]]) \n",
    "    #BOTH the if an else statement do the same thing but since it is a dictionary one needs to add the group name first\n",
    "    else:  \n",
    "        if math.isnan(row[\"latitude\"]):\n",
    "          nan_count[row['gname']] = 1\n",
    "        else: \n",
    "            point = transformer.transform(row[\"latitude\"],row[\"longitude\"])\n",
    "            map_dict[row['gname']] =[[point[0],point[1]]]\n",
    "        \n",
    "#This tells how many attacks we are losing\n",
    "nan_count                     "
   ]
  },
  {
   "cell_type": "markdown",
   "metadata": {},
   "source": [
    "# Problem 3: Print the top 5 groups from the map_dict structure"
   ]
  },
  {
   "cell_type": "code",
   "execution_count": null,
   "metadata": {},
   "outputs": [],
   "source": []
  },
  {
   "cell_type": "markdown",
   "metadata": {},
   "source": [
    "# Problem 4: Change the map to show a new country. \n",
    "## You can get the lat/long for different places here : https://www.latlong.net/"
   ]
  },
  {
   "cell_type": "code",
   "execution_count": null,
   "metadata": {},
   "outputs": [],
   "source": [
    "pts = [(5.00,126.53), (19.00,117.17)]\n",
    "bbox = []\n",
    "for pt in transformer.itransform(pts): \n",
    "    bbox.append(pt)\n"
   ]
  },
  {
   "cell_type": "code",
   "execution_count": null,
   "metadata": {},
   "outputs": [],
   "source": [
    "NPA_x = []\n",
    "NPA_y = []\n",
    "for pt in map_dict[\"New People's Army (NPA)\"]:\n",
    "    NPA_x.append(pt[0])\n",
    "    NPA_y.append(pt[1])"
   ]
  },
  {
   "cell_type": "code",
   "execution_count": null,
   "metadata": {},
   "outputs": [],
   "source": [
    "#Plots the bounding box\n",
    "p = figure(x_range=(bbox[0][0], bbox[1][0]),y_range=(bbox[0][1], bbox[1][1]),x_axis_type=\"mercator\", y_axis_type=\"mercator\")\n",
    "#add the map form the Bokeh map vendor in this case Stamen_Terrain --- see documentation\n",
    "p.add_tile(tile_provider)\n",
    "# Places a circle for each converted lat/long attack \n",
    "p.circle(x = NPA_x, y = NPA_y, color= \"firebrick\")\n",
    "\n",
    "#shows the plot\n",
    "show(p)"
   ]
  },
  {
   "cell_type": "code",
   "execution_count": null,
   "metadata": {},
   "outputs": [],
   "source": []
  },
  {
   "cell_type": "code",
   "execution_count": null,
   "metadata": {},
   "outputs": [],
   "source": []
  }
 ],
 "metadata": {
  "kernelspec": {
   "display_name": "Python 3",
   "language": "python",
   "name": "python3"
  },
  "language_info": {
   "codemirror_mode": {
    "name": "ipython",
    "version": 3
   },
   "file_extension": ".py",
   "mimetype": "text/x-python",
   "name": "python",
   "nbconvert_exporter": "python",
   "pygments_lexer": "ipython3",
   "version": "3.7.6"
  }
 },
 "nbformat": 4,
 "nbformat_minor": 2
}
